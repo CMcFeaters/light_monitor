{
 "cells": [
  {
   "cell_type": "code",
   "execution_count": 1,
   "metadata": {},
   "outputs": [],
   "source": [
    "import pandas as pd\n",
    "import numpy as np\n",
    "import matplotlib.pyplot as plt"
   ]
  },
  {
   "cell_type": "code",
   "execution_count": 2,
   "metadata": {},
   "outputs": [
    {
     "name": "stdout",
     "output_type": "stream",
     "text": [
      "[[1.0100e+02 3.9000e+00 1.0100e+00 ... 1.0100e+01 3.9000e+01 0.0000e+00]\n",
      " [2.0400e+02 3.9000e+00 1.0100e+00 ... 1.0200e+01 3.9000e+01 0.0000e+00]\n",
      " [3.0600e+02 3.9000e+00 1.0100e+00 ... 1.0100e+01 3.9000e+01 0.0000e+00]\n",
      " ...\n",
      " [6.9812e+04 3.4300e+00 7.6800e+00 ... 7.6900e+01 2.6400e+02 5.9000e-01]\n",
      " [6.9918e+04 3.4300e+00 7.6800e+00 ... 7.7000e+01 2.6400e+02 5.9000e-01]\n",
      " [7.0025e+04 3.4300e+00 7.7100e+00 ... 7.7000e+01 2.6400e+02 5.9000e-01]]\n"
     ]
    }
   ],
   "source": [
    "dataset = pd.read_csv(r'C:\\Users\\Chuck\\Desktop\\arduino\\light_monitor\\test1.csv')#this creates a dataframe read in by pandas\n",
    "X = dataset.iloc[:,:].values \n",
    "print(X)"
   ]
  },
  {
   "cell_type": "code",
   "execution_count": 4,
   "metadata": {},
   "outputs": [
    {
     "data": {
      "image/png": "[encoded data removed]",
      "text/plain": [
       "<Figure size 432x288 with 1 Axes>"
      ]
     },
     "metadata": {
      "needs_background": "light"
     },
     "output_type": "display_data"
    }
   ],
   "source": [
    "plt.scatter(X[:,0], X[:,4], color = 'red')\n",
    "#plt.title('Salary vs Experience (Training set)')\n",
    "#plt.xlabel('Years of Experience')\n",
    "#plt.ylabel('Salary')\n",
    "plt.show()"
   ]
  },
  {
   "cell_type": "code",
   "execution_count": null,
   "metadata": {},
   "outputs": [],
   "source": []
  }
 ],
 "metadata": {
  "kernelspec": {
   "display_name": "Python 3",
   "language": "python",
   "name": "python3"
  },
  "language_info": {
   "codemirror_mode": {
    "name": "ipython",
    "version": 3
   },
   "file_extension": ".py",
   "mimetype": "text/x-python",
   "name": "python",
   "nbconvert_exporter": "python",
   "pygments_lexer": "ipython3",
   "version": "3.7.6"
  }
 },
 "nbformat": 4,
 "nbformat_minor": 4
}
